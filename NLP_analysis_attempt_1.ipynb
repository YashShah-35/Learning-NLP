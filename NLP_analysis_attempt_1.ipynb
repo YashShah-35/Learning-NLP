{
  "nbformat": 4,
  "nbformat_minor": 0,
  "metadata": {
    "colab": {
      "provenance": [],
      "authorship_tag": "ABX9TyMmptUNmxEXuLUMqZOkucce",
      "include_colab_link": true
    },
    "kernelspec": {
      "name": "python3",
      "display_name": "Python 3"
    },
    "language_info": {
      "name": "python"
    }
  },
  "cells": [
    {
      "cell_type": "markdown",
      "metadata": {
        "id": "view-in-github",
        "colab_type": "text"
      },
      "source": [
        "<a href=\"https://colab.research.google.com/github/YashShah-35/Learning-NLP/blob/main/NLP_analysis_attempt_1.ipynb\" target=\"_parent\"><img src=\"https://colab.research.google.com/assets/colab-badge.svg\" alt=\"Open In Colab\"/></a>"
      ]
    },
    {
      "cell_type": "code",
      "execution_count": 12,
      "metadata": {
        "colab": {
          "base_uri": "https://localhost:8080/"
        },
        "id": "bVFkOhlKlRaY",
        "outputId": "3ab03ebc-9dc3-45f6-b29c-30ec74949804"
      },
      "outputs": [
        {
          "output_type": "stream",
          "name": "stderr",
          "text": [
            "[nltk_data] Downloading package punkt to /root/nltk_data...\n",
            "[nltk_data]   Package punkt is already up-to-date!\n",
            "[nltk_data] Downloading package stopwords to /root/nltk_data...\n",
            "[nltk_data]   Package stopwords is already up-to-date!\n",
            "[nltk_data] Downloading package vader_lexicon to /root/nltk_data...\n"
          ]
        }
      ],
      "source": [
        "import nltk\n",
        "from nltk.corpus import stopwords\n",
        "from nltk.tokenize import word_tokenize\n",
        "from nltk.sentiment import SentimentIntensityAnalyzer\n",
        "nltk.download('punkt')\n",
        "nltk.download('stopwords')\n",
        "nltk.download('vader_lexicon')\n",
        "from nltk import sent_tokenize\n"
      ]
    },
    {
      "cell_type": "code",
      "source": [
        "# Read in the chat data from a file\n",
        "with open('/content/chat1.txt', 'r') as f:\n",
        "    chat_data = f.read()\n",
        "\n"
      ],
      "metadata": {
        "id": "7IxkQ6YFlU1v"
      },
      "execution_count": 29,
      "outputs": []
    },
    {
      "cell_type": "code",
      "source": [
        "# Tokenize the chat data into individual words\n",
        "words = word_tokenize(chat_data)\n",
        "\n"
      ],
      "metadata": {
        "id": "vtk3Xp0Ild6h"
      },
      "execution_count": 30,
      "outputs": []
    },
    {
      "cell_type": "code",
      "source": [
        "# Remove stop words (common words like \"the\" and \"and\")\n",
        "stop_words = set(stopwords.words('english'))\n",
        "filtered_words = [word for word in words if not word in stop_words]\n",
        "\n"
      ],
      "metadata": {
        "id": "6OIZjhnPlgqg"
      },
      "execution_count": 31,
      "outputs": []
    },
    {
      "cell_type": "code",
      "source": [
        "# Calculate the sentiment of the chat using the Sentiment Intensity Analyzer\n",
        "sia = SentimentIntensityAnalyzer()\n",
        "sentiment_scores = sia.polarity_scores(chat_data)\n",
        "\n",
        "print('Sentiment analysis:')\n",
        "print(f'Positive: {sentiment_scores[\"pos\"]:.2f}')\n",
        "print(f'Neutral: {sentiment_scores[\"neu\"]:.2f}')\n",
        "print(f'Negative: {sentiment_scores[\"neg\"]:.2f}')\n",
        "\n"
      ],
      "metadata": {
        "colab": {
          "base_uri": "https://localhost:8080/"
        },
        "id": "KstEs_F3li43",
        "outputId": "986399f6-ae27-4083-b2df-417f2e7e451c"
      },
      "execution_count": 32,
      "outputs": [
        {
          "output_type": "stream",
          "name": "stdout",
          "text": [
            "Sentiment analysis:\n",
            "Positive: 0.06\n",
            "Neutral: 0.91\n",
            "Negative: 0.04\n"
          ]
        }
      ]
    },
    {
      "cell_type": "code",
      "source": [
        "# Count the frequency of each word in the chat\n",
        "word_freq = nltk.FreqDist(filtered_words)\n",
        "word_freq\n"
      ],
      "metadata": {
        "colab": {
          "base_uri": "https://localhost:8080/"
        },
        "id": "2xbaFH72lu6Y",
        "outputId": "9c915ac3-4a63-4ec5-c598-30f7e696111f"
      },
      "execution_count": 33,
      "outputs": [
        {
          "output_type": "execute_result",
          "data": {
            "text/plain": [
              "FreqDist({':': 40264, ',': 40142, '-': 40002, 'Vanshika': 22535, 'PM': 20818, 'AM': 19173, 'Yash': 17515, 'hai': 3781, '?': 3156, '<': 2681, ...})"
            ]
          },
          "metadata": {},
          "execution_count": 33
        }
      ]
    },
    {
      "cell_type": "code",
      "source": [
        "# Print the 10 most common words and their frequency\n",
        "print('\\nTop 10 most common words:')\n",
        "for word, frequency in word_freq.most_common(10):\n",
        "    print(f'{word}: {frequency}')\n"
      ],
      "metadata": {
        "colab": {
          "base_uri": "https://localhost:8080/"
        },
        "id": "IHiIH7z6lyTB",
        "outputId": "5996dfe2-8399-4bc5-f90c-47e3708b2689"
      },
      "execution_count": 34,
      "outputs": [
        {
          "output_type": "stream",
          "name": "stdout",
          "text": [
            "\n",
            "Top 10 most common words:\n",
            ":: 40264\n",
            ",: 40142\n",
            "-: 40002\n",
            "Vanshika: 22535\n",
            "PM: 20818\n",
            "AM: 19173\n",
            "Yash: 17515\n",
            "hai: 3781\n",
            "?: 3156\n",
            "<: 2681\n"
          ]
        }
      ]
    },
    {
      "cell_type": "code",
      "source": [
        "import pandas as pd\n",
        "import matplotlib.pyplot as plt\n",
        "\n",
        "# Load the chat data into a pandas dataframe\n",
        "chat_data = pd.read_csv('/content/cha.txt', sep='\\t', names=['datetime', 'sender', 'message'])\n",
        "chat_data"
      ],
      "metadata": {
        "colab": {
          "base_uri": "https://localhost:8080/",
          "height": 424
        },
        "id": "Gnd6UL-1p06k",
        "outputId": "7a73eb2e-cdfd-4978-a9a6-b31b8a11025b"
      },
      "execution_count": 87,
      "outputs": [
        {
          "output_type": "execute_result",
          "data": {
            "text/plain": [
              "                                               datetime  sender  message\n",
              "0                     6/17/22, 12:07 PM - Vanshika: Hmm     NaN      NaN\n",
              "1                   6/17/22, 12:39 PM - Yash: Nikala hu     NaN      NaN\n",
              "2                    6/17/22, 12:59 PM - Vanshika: Abhi     NaN      NaN\n",
              "3                     6/17/22, 12:59 PM - Vanshika: Bro     NaN      NaN\n",
              "4        6/17/22, 12:59 PM - Vanshika: Late thase aavta     NaN      NaN\n",
              "...                                                 ...     ...      ...\n",
              "39984  2/28/23, 11:58 PM - Yash: Tu pan aam aj bole che     NaN      NaN\n",
              "39985                   2/28/23, 11:59 PM - Vanshika: 😑     NaN      NaN\n",
              "39986                     2/28/23, 11:59 PM - Yash: Are     NaN      NaN\n",
              "39987     3/1/23, 8:10 AM - Vanshika: Missed voice call     NaN      NaN\n",
              "39988           3/1/23, 1:38 PM - Yash: <Media omitted>     NaN      NaN\n",
              "\n",
              "[39989 rows x 3 columns]"
            ],
            "text/html": [
              "\n",
              "  <div id=\"df-e74e2a7e-724e-4871-8623-2e86bfc020f9\">\n",
              "    <div class=\"colab-df-container\">\n",
              "      <div>\n",
              "<style scoped>\n",
              "    .dataframe tbody tr th:only-of-type {\n",
              "        vertical-align: middle;\n",
              "    }\n",
              "\n",
              "    .dataframe tbody tr th {\n",
              "        vertical-align: top;\n",
              "    }\n",
              "\n",
              "    .dataframe thead th {\n",
              "        text-align: right;\n",
              "    }\n",
              "</style>\n",
              "<table border=\"1\" class=\"dataframe\">\n",
              "  <thead>\n",
              "    <tr style=\"text-align: right;\">\n",
              "      <th></th>\n",
              "      <th>datetime</th>\n",
              "      <th>sender</th>\n",
              "      <th>message</th>\n",
              "    </tr>\n",
              "  </thead>\n",
              "  <tbody>\n",
              "    <tr>\n",
              "      <th>0</th>\n",
              "      <td>6/17/22, 12:07 PM - Vanshika: Hmm</td>\n",
              "      <td>NaN</td>\n",
              "      <td>NaN</td>\n",
              "    </tr>\n",
              "    <tr>\n",
              "      <th>1</th>\n",
              "      <td>6/17/22, 12:39 PM - Yash: Nikala hu</td>\n",
              "      <td>NaN</td>\n",
              "      <td>NaN</td>\n",
              "    </tr>\n",
              "    <tr>\n",
              "      <th>2</th>\n",
              "      <td>6/17/22, 12:59 PM - Vanshika: Abhi</td>\n",
              "      <td>NaN</td>\n",
              "      <td>NaN</td>\n",
              "    </tr>\n",
              "    <tr>\n",
              "      <th>3</th>\n",
              "      <td>6/17/22, 12:59 PM - Vanshika: Bro</td>\n",
              "      <td>NaN</td>\n",
              "      <td>NaN</td>\n",
              "    </tr>\n",
              "    <tr>\n",
              "      <th>4</th>\n",
              "      <td>6/17/22, 12:59 PM - Vanshika: Late thase aavta</td>\n",
              "      <td>NaN</td>\n",
              "      <td>NaN</td>\n",
              "    </tr>\n",
              "    <tr>\n",
              "      <th>...</th>\n",
              "      <td>...</td>\n",
              "      <td>...</td>\n",
              "      <td>...</td>\n",
              "    </tr>\n",
              "    <tr>\n",
              "      <th>39984</th>\n",
              "      <td>2/28/23, 11:58 PM - Yash: Tu pan aam aj bole che</td>\n",
              "      <td>NaN</td>\n",
              "      <td>NaN</td>\n",
              "    </tr>\n",
              "    <tr>\n",
              "      <th>39985</th>\n",
              "      <td>2/28/23, 11:59 PM - Vanshika: 😑</td>\n",
              "      <td>NaN</td>\n",
              "      <td>NaN</td>\n",
              "    </tr>\n",
              "    <tr>\n",
              "      <th>39986</th>\n",
              "      <td>2/28/23, 11:59 PM - Yash: Are</td>\n",
              "      <td>NaN</td>\n",
              "      <td>NaN</td>\n",
              "    </tr>\n",
              "    <tr>\n",
              "      <th>39987</th>\n",
              "      <td>3/1/23, 8:10 AM - Vanshika: Missed voice call</td>\n",
              "      <td>NaN</td>\n",
              "      <td>NaN</td>\n",
              "    </tr>\n",
              "    <tr>\n",
              "      <th>39988</th>\n",
              "      <td>3/1/23, 1:38 PM - Yash: &lt;Media omitted&gt;</td>\n",
              "      <td>NaN</td>\n",
              "      <td>NaN</td>\n",
              "    </tr>\n",
              "  </tbody>\n",
              "</table>\n",
              "<p>39989 rows × 3 columns</p>\n",
              "</div>\n",
              "      <button class=\"colab-df-convert\" onclick=\"convertToInteractive('df-e74e2a7e-724e-4871-8623-2e86bfc020f9')\"\n",
              "              title=\"Convert this dataframe to an interactive table.\"\n",
              "              style=\"display:none;\">\n",
              "        \n",
              "  <svg xmlns=\"http://www.w3.org/2000/svg\" height=\"24px\"viewBox=\"0 0 24 24\"\n",
              "       width=\"24px\">\n",
              "    <path d=\"M0 0h24v24H0V0z\" fill=\"none\"/>\n",
              "    <path d=\"M18.56 5.44l.94 2.06.94-2.06 2.06-.94-2.06-.94-.94-2.06-.94 2.06-2.06.94zm-11 1L8.5 8.5l.94-2.06 2.06-.94-2.06-.94L8.5 2.5l-.94 2.06-2.06.94zm10 10l.94 2.06.94-2.06 2.06-.94-2.06-.94-.94-2.06-.94 2.06-2.06.94z\"/><path d=\"M17.41 7.96l-1.37-1.37c-.4-.4-.92-.59-1.43-.59-.52 0-1.04.2-1.43.59L10.3 9.45l-7.72 7.72c-.78.78-.78 2.05 0 2.83L4 21.41c.39.39.9.59 1.41.59.51 0 1.02-.2 1.41-.59l7.78-7.78 2.81-2.81c.8-.78.8-2.07 0-2.86zM5.41 20L4 18.59l7.72-7.72 1.47 1.35L5.41 20z\"/>\n",
              "  </svg>\n",
              "      </button>\n",
              "      \n",
              "  <style>\n",
              "    .colab-df-container {\n",
              "      display:flex;\n",
              "      flex-wrap:wrap;\n",
              "      gap: 12px;\n",
              "    }\n",
              "\n",
              "    .colab-df-convert {\n",
              "      background-color: #E8F0FE;\n",
              "      border: none;\n",
              "      border-radius: 50%;\n",
              "      cursor: pointer;\n",
              "      display: none;\n",
              "      fill: #1967D2;\n",
              "      height: 32px;\n",
              "      padding: 0 0 0 0;\n",
              "      width: 32px;\n",
              "    }\n",
              "\n",
              "    .colab-df-convert:hover {\n",
              "      background-color: #E2EBFA;\n",
              "      box-shadow: 0px 1px 2px rgba(60, 64, 67, 0.3), 0px 1px 3px 1px rgba(60, 64, 67, 0.15);\n",
              "      fill: #174EA6;\n",
              "    }\n",
              "\n",
              "    [theme=dark] .colab-df-convert {\n",
              "      background-color: #3B4455;\n",
              "      fill: #D2E3FC;\n",
              "    }\n",
              "\n",
              "    [theme=dark] .colab-df-convert:hover {\n",
              "      background-color: #434B5C;\n",
              "      box-shadow: 0px 1px 3px 1px rgba(0, 0, 0, 0.15);\n",
              "      filter: drop-shadow(0px 1px 2px rgba(0, 0, 0, 0.3));\n",
              "      fill: #FFFFFF;\n",
              "    }\n",
              "  </style>\n",
              "\n",
              "      <script>\n",
              "        const buttonEl =\n",
              "          document.querySelector('#df-e74e2a7e-724e-4871-8623-2e86bfc020f9 button.colab-df-convert');\n",
              "        buttonEl.style.display =\n",
              "          google.colab.kernel.accessAllowed ? 'block' : 'none';\n",
              "\n",
              "        async function convertToInteractive(key) {\n",
              "          const element = document.querySelector('#df-e74e2a7e-724e-4871-8623-2e86bfc020f9');\n",
              "          const dataTable =\n",
              "            await google.colab.kernel.invokeFunction('convertToInteractive',\n",
              "                                                     [key], {});\n",
              "          if (!dataTable) return;\n",
              "\n",
              "          const docLinkHtml = 'Like what you see? Visit the ' +\n",
              "            '<a target=\"_blank\" href=https://colab.research.google.com/notebooks/data_table.ipynb>data table notebook</a>'\n",
              "            + ' to learn more about interactive tables.';\n",
              "          element.innerHTML = '';\n",
              "          dataTable['output_type'] = 'display_data';\n",
              "          await google.colab.output.renderOutput(dataTable, element);\n",
              "          const docLink = document.createElement('div');\n",
              "          docLink.innerHTML = docLinkHtml;\n",
              "          element.appendChild(docLink);\n",
              "        }\n",
              "      </script>\n",
              "    </div>\n",
              "  </div>\n",
              "  "
            ]
          },
          "metadata": {},
          "execution_count": 87
        }
      ]
    },
    {
      "cell_type": "code",
      "source": [
        "\n",
        "# Split the chat data into separate columns for the sender and message\n",
        "chat_data[['datetime', 'sender_message']] = chat_data['datetime'].str.split(' - ', n=1, expand=True)\n",
        "chat_data[['sender', 'message']] = chat_data['sender_message'].str.split(': ', n=1, expand=True)\n",
        "chat_data\n"
      ],
      "metadata": {
        "colab": {
          "base_uri": "https://localhost:8080/",
          "height": 424
        },
        "id": "pdEJuzQjtrTK",
        "outputId": "a81abd33-f5c5-446d-c0b1-983f7a324332"
      },
      "execution_count": 88,
      "outputs": [
        {
          "output_type": "execute_result",
          "data": {
            "text/plain": [
              "                datetime    sender                 message  \\\n",
              "0      6/17/22, 12:07 PM  Vanshika                     Hmm   \n",
              "1      6/17/22, 12:39 PM      Yash               Nikala hu   \n",
              "2      6/17/22, 12:59 PM  Vanshika                    Abhi   \n",
              "3      6/17/22, 12:59 PM  Vanshika                     Bro   \n",
              "4      6/17/22, 12:59 PM  Vanshika        Late thase aavta   \n",
              "...                  ...       ...                     ...   \n",
              "39984  2/28/23, 11:58 PM      Yash  Tu pan aam aj bole che   \n",
              "39985  2/28/23, 11:59 PM  Vanshika                       😑   \n",
              "39986  2/28/23, 11:59 PM      Yash                     Are   \n",
              "39987    3/1/23, 8:10 AM  Vanshika       Missed voice call   \n",
              "39988    3/1/23, 1:38 PM      Yash         <Media omitted>   \n",
              "\n",
              "                     sender_message  \n",
              "0                     Vanshika: Hmm  \n",
              "1                   Yash: Nikala hu  \n",
              "2                    Vanshika: Abhi  \n",
              "3                     Vanshika: Bro  \n",
              "4        Vanshika: Late thase aavta  \n",
              "...                             ...  \n",
              "39984  Yash: Tu pan aam aj bole che  \n",
              "39985                   Vanshika: 😑  \n",
              "39986                     Yash: Are  \n",
              "39987   Vanshika: Missed voice call  \n",
              "39988         Yash: <Media omitted>  \n",
              "\n",
              "[39989 rows x 4 columns]"
            ],
            "text/html": [
              "\n",
              "  <div id=\"df-162b4038-4a69-4518-95c2-17f1c85307b3\">\n",
              "    <div class=\"colab-df-container\">\n",
              "      <div>\n",
              "<style scoped>\n",
              "    .dataframe tbody tr th:only-of-type {\n",
              "        vertical-align: middle;\n",
              "    }\n",
              "\n",
              "    .dataframe tbody tr th {\n",
              "        vertical-align: top;\n",
              "    }\n",
              "\n",
              "    .dataframe thead th {\n",
              "        text-align: right;\n",
              "    }\n",
              "</style>\n",
              "<table border=\"1\" class=\"dataframe\">\n",
              "  <thead>\n",
              "    <tr style=\"text-align: right;\">\n",
              "      <th></th>\n",
              "      <th>datetime</th>\n",
              "      <th>sender</th>\n",
              "      <th>message</th>\n",
              "      <th>sender_message</th>\n",
              "    </tr>\n",
              "  </thead>\n",
              "  <tbody>\n",
              "    <tr>\n",
              "      <th>0</th>\n",
              "      <td>6/17/22, 12:07 PM</td>\n",
              "      <td>Vanshika</td>\n",
              "      <td>Hmm</td>\n",
              "      <td>Vanshika: Hmm</td>\n",
              "    </tr>\n",
              "    <tr>\n",
              "      <th>1</th>\n",
              "      <td>6/17/22, 12:39 PM</td>\n",
              "      <td>Yash</td>\n",
              "      <td>Nikala hu</td>\n",
              "      <td>Yash: Nikala hu</td>\n",
              "    </tr>\n",
              "    <tr>\n",
              "      <th>2</th>\n",
              "      <td>6/17/22, 12:59 PM</td>\n",
              "      <td>Vanshika</td>\n",
              "      <td>Abhi</td>\n",
              "      <td>Vanshika: Abhi</td>\n",
              "    </tr>\n",
              "    <tr>\n",
              "      <th>3</th>\n",
              "      <td>6/17/22, 12:59 PM</td>\n",
              "      <td>Vanshika</td>\n",
              "      <td>Bro</td>\n",
              "      <td>Vanshika: Bro</td>\n",
              "    </tr>\n",
              "    <tr>\n",
              "      <th>4</th>\n",
              "      <td>6/17/22, 12:59 PM</td>\n",
              "      <td>Vanshika</td>\n",
              "      <td>Late thase aavta</td>\n",
              "      <td>Vanshika: Late thase aavta</td>\n",
              "    </tr>\n",
              "    <tr>\n",
              "      <th>...</th>\n",
              "      <td>...</td>\n",
              "      <td>...</td>\n",
              "      <td>...</td>\n",
              "      <td>...</td>\n",
              "    </tr>\n",
              "    <tr>\n",
              "      <th>39984</th>\n",
              "      <td>2/28/23, 11:58 PM</td>\n",
              "      <td>Yash</td>\n",
              "      <td>Tu pan aam aj bole che</td>\n",
              "      <td>Yash: Tu pan aam aj bole che</td>\n",
              "    </tr>\n",
              "    <tr>\n",
              "      <th>39985</th>\n",
              "      <td>2/28/23, 11:59 PM</td>\n",
              "      <td>Vanshika</td>\n",
              "      <td>😑</td>\n",
              "      <td>Vanshika: 😑</td>\n",
              "    </tr>\n",
              "    <tr>\n",
              "      <th>39986</th>\n",
              "      <td>2/28/23, 11:59 PM</td>\n",
              "      <td>Yash</td>\n",
              "      <td>Are</td>\n",
              "      <td>Yash: Are</td>\n",
              "    </tr>\n",
              "    <tr>\n",
              "      <th>39987</th>\n",
              "      <td>3/1/23, 8:10 AM</td>\n",
              "      <td>Vanshika</td>\n",
              "      <td>Missed voice call</td>\n",
              "      <td>Vanshika: Missed voice call</td>\n",
              "    </tr>\n",
              "    <tr>\n",
              "      <th>39988</th>\n",
              "      <td>3/1/23, 1:38 PM</td>\n",
              "      <td>Yash</td>\n",
              "      <td>&lt;Media omitted&gt;</td>\n",
              "      <td>Yash: &lt;Media omitted&gt;</td>\n",
              "    </tr>\n",
              "  </tbody>\n",
              "</table>\n",
              "<p>39989 rows × 4 columns</p>\n",
              "</div>\n",
              "      <button class=\"colab-df-convert\" onclick=\"convertToInteractive('df-162b4038-4a69-4518-95c2-17f1c85307b3')\"\n",
              "              title=\"Convert this dataframe to an interactive table.\"\n",
              "              style=\"display:none;\">\n",
              "        \n",
              "  <svg xmlns=\"http://www.w3.org/2000/svg\" height=\"24px\"viewBox=\"0 0 24 24\"\n",
              "       width=\"24px\">\n",
              "    <path d=\"M0 0h24v24H0V0z\" fill=\"none\"/>\n",
              "    <path d=\"M18.56 5.44l.94 2.06.94-2.06 2.06-.94-2.06-.94-.94-2.06-.94 2.06-2.06.94zm-11 1L8.5 8.5l.94-2.06 2.06-.94-2.06-.94L8.5 2.5l-.94 2.06-2.06.94zm10 10l.94 2.06.94-2.06 2.06-.94-2.06-.94-.94-2.06-.94 2.06-2.06.94z\"/><path d=\"M17.41 7.96l-1.37-1.37c-.4-.4-.92-.59-1.43-.59-.52 0-1.04.2-1.43.59L10.3 9.45l-7.72 7.72c-.78.78-.78 2.05 0 2.83L4 21.41c.39.39.9.59 1.41.59.51 0 1.02-.2 1.41-.59l7.78-7.78 2.81-2.81c.8-.78.8-2.07 0-2.86zM5.41 20L4 18.59l7.72-7.72 1.47 1.35L5.41 20z\"/>\n",
              "  </svg>\n",
              "      </button>\n",
              "      \n",
              "  <style>\n",
              "    .colab-df-container {\n",
              "      display:flex;\n",
              "      flex-wrap:wrap;\n",
              "      gap: 12px;\n",
              "    }\n",
              "\n",
              "    .colab-df-convert {\n",
              "      background-color: #E8F0FE;\n",
              "      border: none;\n",
              "      border-radius: 50%;\n",
              "      cursor: pointer;\n",
              "      display: none;\n",
              "      fill: #1967D2;\n",
              "      height: 32px;\n",
              "      padding: 0 0 0 0;\n",
              "      width: 32px;\n",
              "    }\n",
              "\n",
              "    .colab-df-convert:hover {\n",
              "      background-color: #E2EBFA;\n",
              "      box-shadow: 0px 1px 2px rgba(60, 64, 67, 0.3), 0px 1px 3px 1px rgba(60, 64, 67, 0.15);\n",
              "      fill: #174EA6;\n",
              "    }\n",
              "\n",
              "    [theme=dark] .colab-df-convert {\n",
              "      background-color: #3B4455;\n",
              "      fill: #D2E3FC;\n",
              "    }\n",
              "\n",
              "    [theme=dark] .colab-df-convert:hover {\n",
              "      background-color: #434B5C;\n",
              "      box-shadow: 0px 1px 3px 1px rgba(0, 0, 0, 0.15);\n",
              "      filter: drop-shadow(0px 1px 2px rgba(0, 0, 0, 0.3));\n",
              "      fill: #FFFFFF;\n",
              "    }\n",
              "  </style>\n",
              "\n",
              "      <script>\n",
              "        const buttonEl =\n",
              "          document.querySelector('#df-162b4038-4a69-4518-95c2-17f1c85307b3 button.colab-df-convert');\n",
              "        buttonEl.style.display =\n",
              "          google.colab.kernel.accessAllowed ? 'block' : 'none';\n",
              "\n",
              "        async function convertToInteractive(key) {\n",
              "          const element = document.querySelector('#df-162b4038-4a69-4518-95c2-17f1c85307b3');\n",
              "          const dataTable =\n",
              "            await google.colab.kernel.invokeFunction('convertToInteractive',\n",
              "                                                     [key], {});\n",
              "          if (!dataTable) return;\n",
              "\n",
              "          const docLinkHtml = 'Like what you see? Visit the ' +\n",
              "            '<a target=\"_blank\" href=https://colab.research.google.com/notebooks/data_table.ipynb>data table notebook</a>'\n",
              "            + ' to learn more about interactive tables.';\n",
              "          element.innerHTML = '';\n",
              "          dataTable['output_type'] = 'display_data';\n",
              "          await google.colab.output.renderOutput(dataTable, element);\n",
              "          const docLink = document.createElement('div');\n",
              "          docLink.innerHTML = docLinkHtml;\n",
              "          element.appendChild(docLink);\n",
              "        }\n",
              "      </script>\n",
              "    </div>\n",
              "  </div>\n",
              "  "
            ]
          },
          "metadata": {},
          "execution_count": 88
        }
      ]
    },
    {
      "cell_type": "code",
      "source": [
        "\n",
        "# Convert the datetime column to a datetime object\n",
        "chat_data['datetime'] = pd.to_datetime(chat_data['datetime'], format='%m/%d/%y, %I:%M %p' )\n",
        "\n",
        "# Extract the date and time components from the datetime column\n",
        "chat_data['date'] = chat_data['datetime'].dt.date\n",
        "chat_data['time'] = chat_data['datetime'].dt.time\n",
        "\n"
      ],
      "metadata": {
        "id": "YI3hJanssFTg"
      },
      "execution_count": 89,
      "outputs": []
    },
    {
      "cell_type": "code",
      "source": [
        "# Calculate the number of messages sent by each sender\n",
        "message_counts = chat_data['sender'].value_counts()\n",
        "\n",
        "# Plot the message counts as a bar chart\n",
        "message_counts.plot(kind='bar')\n",
        "plt.xlabel('Sender')\n",
        "plt.ylabel('Number of Messages')\n",
        "plt.show()\n"
      ],
      "metadata": {
        "colab": {
          "base_uri": "https://localhost:8080/",
          "height": 314
        },
        "id": "uLWZAE5uD_Xa",
        "outputId": "1903e7c9-4463-4b0d-fa30-30d30a853587"
      },
      "execution_count": 90,
      "outputs": [
        {
          "output_type": "display_data",
          "data": {
            "text/plain": [
              "<Figure size 432x288 with 1 Axes>"
            ],
            "image/png": "[encoded data removed]"
          },
          "metadata": {
            "needs_background": "light"
          }
        }
      ]
    },
    {
      "cell_type": "code",
      "source": [
        "\n",
        "# Calculate the average message length for each sender\n",
        "avg_message_length = chat_data.groupby('sender')['message'].apply(lambda x: x.str.len().mean())\n",
        "\n",
        "# Plot the average message length as a bar chart\n",
        "avg_message_length.plot(kind='bar')\n",
        "plt.xlabel('Sender')\n",
        "plt.ylabel('Average Message Length')\n",
        "plt.show()\n",
        "\n"
      ],
      "metadata": {
        "colab": {
          "base_uri": "https://localhost:8080/",
          "height": 314
        },
        "id": "riMdOXkKI-j-",
        "outputId": "43816436-bdb4-4abf-f314-f6ae082f54f3"
      },
      "execution_count": 91,
      "outputs": [
        {
          "output_type": "display_data",
          "data": {
            "text/plain": [
              "<Figure size 432x288 with 1 Axes>"
            ],
            "image/png": "[encoded data removed]"
          },
          "metadata": {
            "needs_background": "light"
          }
        }
      ]
    },
    {
      "cell_type": "code",
      "source": [
        "# Calculate the number of messages sent by each sender per day\n",
        "messages_per_day = chat_data.groupby(['date', 'sender']).size().unstack(fill_value=0)\n",
        "\n",
        "# Plot the messages per day as a line chart\n",
        "messages_per_day.plot()\n",
        "plt.xlabel('Date')\n",
        "plt.ylabel('Number of Messages')\n",
        "plt.legend(title='Sender')\n",
        "plt.show()\n"
      ],
      "metadata": {
        "colab": {
          "base_uri": "https://localhost:8080/",
          "height": 281
        },
        "id": "pOW_ZGCMJAsq",
        "outputId": "70c0250b-e49e-4151-f43c-deeace921d0f"
      },
      "execution_count": 92,
      "outputs": [
        {
          "output_type": "display_data",
          "data": {
            "text/plain": [
              "<Figure size 432x288 with 1 Axes>"
            ],
            "image/png": "[encoded data removed]"
          },
          "metadata": {
            "needs_background": "light"
          }
        }
      ]
    },
    {
      "cell_type": "code",
      "source": [],
      "metadata": {
        "id": "ztvAa0NrJDVO"
      },
      "execution_count": null,
      "outputs": []
    }
  ]
}